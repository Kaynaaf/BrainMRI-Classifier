{
  "cells": [
    {
      "cell_type": "markdown",
      "source": [
        "# Image Preprocessing\n",
        "\n",
        "This dataset was compiled and uploaded to Kaggle by **[Masoud Nickparvar](https://www.kaggle.com/datasets/masoudnickparvar/brain-tumor-mri-dataset)** from the following sources: *figshare* , *SARTAJ dataset*, and *Br35H*.\n",
        "\n",
        "There are two functions:  `process_image` and `perform_processing`.\n",
        "\n",
        "- `process_image` performs a series of operations on the image in order to prep it for Deep Learning.\n",
        "\n",
        "- `perform_processing` applies the `process_image` function on a batch of images found in a directory defined by the argument `input_dir`\n",
        "\n",
        "\n",
        "\n"
      ],
      "metadata": {
        "id": "KCrikSWdwIyo"
      }
    },
    {
      "cell_type": "code",
      "source": [
        "import os\n",
        "import time\n",
        "import glob\n",
        "from PIL import Image\n",
        "from tqdm.auto import tqdm\n",
        "import numpy as np\n",
        "from skimage import io, color, exposure, filters, restoration, util\n",
        "from skimage.transform import resize\n",
        "from skimage.filters import unsharp_mask"
      ],
      "metadata": {
        "id": "94ykXOvcgMLe"
      },
      "execution_count": null,
      "outputs": []
    },
    {
      "cell_type": "code",
      "execution_count": null,
      "metadata": {
        "id": "tQP6woweHNWZ"
      },
      "outputs": [],
      "source": [
        "def process_image(img, target_size=(256, 256)):\n",
        "\n",
        "    if img.ndim == 2:\n",
        "        img = color.gray2rgb(img)\n",
        "\n",
        "\n",
        "    img= color.rgb2gray(img)\n",
        "\n",
        "\n",
        "    img_resized = resize(img, target_size, anti_aliasing=True)\n",
        "\n",
        "    # Contrast Enhancement (CLAHE)\n",
        "    img_enhanced = exposure.equalize_adapthist(img_resized)\n",
        "\n",
        "\n",
        "    img_denoised = restoration.denoise_wavelet(img_enhanced,sigma=0.1, mode='soft',rescale_sigma=True)\n",
        "\n",
        "    # Unsharp Masking\n",
        "    img_sharpened = unsharp_mask(\n",
        "        img_denoised,\n",
        "        radius=1,\n",
        "        amount=1\n",
        "    )\n",
        "\n",
        "\n",
        "    img_normalized = (img_sharpened - np.min(img_sharpened)) / (np.max(img_sharpened) - np.min(img_sharpened))\n",
        "\n",
        "    return util.img_as_ubyte(img_normalized) # 8-bit format"
      ]
    },
    {
      "cell_type": "code",
      "execution_count": null,
      "metadata": {
        "id": "P-ZAqmvIlBCB"
      },
      "outputs": [],
      "source": [
        "data = ['Training', 'Testing']\n",
        "classes = ['glioma', 'notumor','meningioma','pituitary']\n",
        "\n",
        "input_dir = \"/path/to/your/dataset/\"\n",
        "\n",
        "\n",
        "def perform_processing(input_dir: str, data: str, classes : str):\n",
        "    dir = f'{input_dir}/{data}/{classes}/'\n",
        "    images = glob.glob(os.path.join(dir, \"*.jpg\"))\n",
        "    with tqdm(total=len(images), desc=\"Processing images\") as pbar:\n",
        "        for filename in images:\n",
        "            input_path = os.path.join(dir, filename)\n",
        "\n",
        "            img = Image.open(input_path).convert('RGB')\n",
        "            img = np.array(img)\n",
        "\n",
        "            processed = process_image(img, target_size=(256, 256))\n",
        "            pbar.update(1)\n",
        "\n",
        "        return f\"Processed {classes} for the {data} dataset\""
      ]
    },
    {
      "cell_type": "code",
      "source": [
        "perform_processing(input_dir,data[1],classes[3])"
      ],
      "metadata": {
        "colab": {
          "base_uri": "https://localhost:8080/",
          "height": 67,
          "referenced_widgets": [
            "7b52a50e9b6c4799894a0c600448c4c2",
            "951791402fe24ff39672441799be837b",
            "7a8ed600fafe4bb2976d482824b0462b",
            "43dd3f882ed64ba693ee39ec85e3d247",
            "457b779d91404f6392a2809f2f98ddf4",
            "63cf1fedca9c485db1d5960709017c4b",
            "154beeb99d4340968b46428432ab8c21",
            "950a288f14fd4fa5831bed4dc88d4607",
            "e1d7748d7b39459fa06bd67d81558cb8",
            "8e6221d84cb0400886e41964b25ac707",
            "e0476a74784a4b0d9114c5e50bf310ce"
          ]
        },
        "id": "AAT_ce98C4kN",
        "outputId": "39172939-9343-4253-986f-2456f91bedae"
      },
      "execution_count": null,
      "outputs": [
        {
          "output_type": "display_data",
          "data": {
            "text/plain": [
              "Processing images:   0%|          | 0/300 [00:00<?, ?it/s]"
            ],
            "application/vnd.jupyter.widget-view+json": {
              "version_major": 2,
              "version_minor": 0,
              "model_id": "7b52a50e9b6c4799894a0c600448c4c2"
            }
          },
          "metadata": {}
        },
        {
          "output_type": "execute_result",
          "data": {
            "text/plain": [
              "'Processed pituitary for the Testing dataset'"
            ],
            "application/vnd.google.colaboratory.intrinsic+json": {
              "type": "string"
            }
          },
          "metadata": {},
          "execution_count": 74
        }
      ]
    }
  ],
  "metadata": {
    "colab": {
      "provenance": [],
      "mount_file_id": "1N3GLRhQhmoV6LGas2hwe9KmW8fvznG5Q",
      "authorship_tag": "ABX9TyPZDizxZyOJ0hkytMiYZC71"
    },
    "kernelspec": {
      "display_name": "Python 3",
      "name": "python3"
    },
    "language_info": {
      "name": "python"
    },
    "widgets": {
      "application/vnd.jupyter.widget-state+json": {
        "7b52a50e9b6c4799894a0c600448c4c2": {
          "model_module": "@jupyter-widgets/controls",
          "model_name": "HBoxModel",
          "model_module_version": "1.5.0",
          "state": {
            "_dom_classes": [],
            "_model_module": "@jupyter-widgets/controls",
            "_model_module_version": "1.5.0",
            "_model_name": "HBoxModel",
            "_view_count": null,
            "_view_module": "@jupyter-widgets/controls",
            "_view_module_version": "1.5.0",
            "_view_name": "HBoxView",
            "box_style": "",
            "children": [
              "IPY_MODEL_951791402fe24ff39672441799be837b",
              "IPY_MODEL_7a8ed600fafe4bb2976d482824b0462b",
              "IPY_MODEL_43dd3f882ed64ba693ee39ec85e3d247"
            ],
            "layout": "IPY_MODEL_457b779d91404f6392a2809f2f98ddf4"
          }
        },
        "951791402fe24ff39672441799be837b": {
          "model_module": "@jupyter-widgets/controls",
          "model_name": "HTMLModel",
          "model_module_version": "1.5.0",
          "state": {
            "_dom_classes": [],
            "_model_module": "@jupyter-widgets/controls",
            "_model_module_version": "1.5.0",
            "_model_name": "HTMLModel",
            "_view_count": null,
            "_view_module": "@jupyter-widgets/controls",
            "_view_module_version": "1.5.0",
            "_view_name": "HTMLView",
            "description": "",
            "description_tooltip": null,
            "layout": "IPY_MODEL_63cf1fedca9c485db1d5960709017c4b",
            "placeholder": "​",
            "style": "IPY_MODEL_154beeb99d4340968b46428432ab8c21",
            "value": "Processing images: 100%"
          }
        },
        "7a8ed600fafe4bb2976d482824b0462b": {
          "model_module": "@jupyter-widgets/controls",
          "model_name": "FloatProgressModel",
          "model_module_version": "1.5.0",
          "state": {
            "_dom_classes": [],
            "_model_module": "@jupyter-widgets/controls",
            "_model_module_version": "1.5.0",
            "_model_name": "FloatProgressModel",
            "_view_count": null,
            "_view_module": "@jupyter-widgets/controls",
            "_view_module_version": "1.5.0",
            "_view_name": "ProgressView",
            "bar_style": "success",
            "description": "",
            "description_tooltip": null,
            "layout": "IPY_MODEL_950a288f14fd4fa5831bed4dc88d4607",
            "max": 300,
            "min": 0,
            "orientation": "horizontal",
            "style": "IPY_MODEL_e1d7748d7b39459fa06bd67d81558cb8",
            "value": 300
          }
        },
        "43dd3f882ed64ba693ee39ec85e3d247": {
          "model_module": "@jupyter-widgets/controls",
          "model_name": "HTMLModel",
          "model_module_version": "1.5.0",
          "state": {
            "_dom_classes": [],
            "_model_module": "@jupyter-widgets/controls",
            "_model_module_version": "1.5.0",
            "_model_name": "HTMLModel",
            "_view_count": null,
            "_view_module": "@jupyter-widgets/controls",
            "_view_module_version": "1.5.0",
            "_view_name": "HTMLView",
            "description": "",
            "description_tooltip": null,
            "layout": "IPY_MODEL_8e6221d84cb0400886e41964b25ac707",
            "placeholder": "​",
            "style": "IPY_MODEL_e0476a74784a4b0d9114c5e50bf310ce",
            "value": " 300/300 [00:18&lt;00:00, 21.83it/s]"
          }
        },
        "457b779d91404f6392a2809f2f98ddf4": {
          "model_module": "@jupyter-widgets/base",
          "model_name": "LayoutModel",
          "model_module_version": "1.2.0",
          "state": {
            "_model_module": "@jupyter-widgets/base",
            "_model_module_version": "1.2.0",
            "_model_name": "LayoutModel",
            "_view_count": null,
            "_view_module": "@jupyter-widgets/base",
            "_view_module_version": "1.2.0",
            "_view_name": "LayoutView",
            "align_content": null,
            "align_items": null,
            "align_self": null,
            "border": null,
            "bottom": null,
            "display": null,
            "flex": null,
            "flex_flow": null,
            "grid_area": null,
            "grid_auto_columns": null,
            "grid_auto_flow": null,
            "grid_auto_rows": null,
            "grid_column": null,
            "grid_gap": null,
            "grid_row": null,
            "grid_template_areas": null,
            "grid_template_columns": null,
            "grid_template_rows": null,
            "height": null,
            "justify_content": null,
            "justify_items": null,
            "left": null,
            "margin": null,
            "max_height": null,
            "max_width": null,
            "min_height": null,
            "min_width": null,
            "object_fit": null,
            "object_position": null,
            "order": null,
            "overflow": null,
            "overflow_x": null,
            "overflow_y": null,
            "padding": null,
            "right": null,
            "top": null,
            "visibility": null,
            "width": null
          }
        },
        "63cf1fedca9c485db1d5960709017c4b": {
          "model_module": "@jupyter-widgets/base",
          "model_name": "LayoutModel",
          "model_module_version": "1.2.0",
          "state": {
            "_model_module": "@jupyter-widgets/base",
            "_model_module_version": "1.2.0",
            "_model_name": "LayoutModel",
            "_view_count": null,
            "_view_module": "@jupyter-widgets/base",
            "_view_module_version": "1.2.0",
            "_view_name": "LayoutView",
            "align_content": null,
            "align_items": null,
            "align_self": null,
            "border": null,
            "bottom": null,
            "display": null,
            "flex": null,
            "flex_flow": null,
            "grid_area": null,
            "grid_auto_columns": null,
            "grid_auto_flow": null,
            "grid_auto_rows": null,
            "grid_column": null,
            "grid_gap": null,
            "grid_row": null,
            "grid_template_areas": null,
            "grid_template_columns": null,
            "grid_template_rows": null,
            "height": null,
            "justify_content": null,
            "justify_items": null,
            "left": null,
            "margin": null,
            "max_height": null,
            "max_width": null,
            "min_height": null,
            "min_width": null,
            "object_fit": null,
            "object_position": null,
            "order": null,
            "overflow": null,
            "overflow_x": null,
            "overflow_y": null,
            "padding": null,
            "right": null,
            "top": null,
            "visibility": null,
            "width": null
          }
        },
        "154beeb99d4340968b46428432ab8c21": {
          "model_module": "@jupyter-widgets/controls",
          "model_name": "DescriptionStyleModel",
          "model_module_version": "1.5.0",
          "state": {
            "_model_module": "@jupyter-widgets/controls",
            "_model_module_version": "1.5.0",
            "_model_name": "DescriptionStyleModel",
            "_view_count": null,
            "_view_module": "@jupyter-widgets/base",
            "_view_module_version": "1.2.0",
            "_view_name": "StyleView",
            "description_width": ""
          }
        },
        "950a288f14fd4fa5831bed4dc88d4607": {
          "model_module": "@jupyter-widgets/base",
          "model_name": "LayoutModel",
          "model_module_version": "1.2.0",
          "state": {
            "_model_module": "@jupyter-widgets/base",
            "_model_module_version": "1.2.0",
            "_model_name": "LayoutModel",
            "_view_count": null,
            "_view_module": "@jupyter-widgets/base",
            "_view_module_version": "1.2.0",
            "_view_name": "LayoutView",
            "align_content": null,
            "align_items": null,
            "align_self": null,
            "border": null,
            "bottom": null,
            "display": null,
            "flex": null,
            "flex_flow": null,
            "grid_area": null,
            "grid_auto_columns": null,
            "grid_auto_flow": null,
            "grid_auto_rows": null,
            "grid_column": null,
            "grid_gap": null,
            "grid_row": null,
            "grid_template_areas": null,
            "grid_template_columns": null,
            "grid_template_rows": null,
            "height": null,
            "justify_content": null,
            "justify_items": null,
            "left": null,
            "margin": null,
            "max_height": null,
            "max_width": null,
            "min_height": null,
            "min_width": null,
            "object_fit": null,
            "object_position": null,
            "order": null,
            "overflow": null,
            "overflow_x": null,
            "overflow_y": null,
            "padding": null,
            "right": null,
            "top": null,
            "visibility": null,
            "width": null
          }
        },
        "e1d7748d7b39459fa06bd67d81558cb8": {
          "model_module": "@jupyter-widgets/controls",
          "model_name": "ProgressStyleModel",
          "model_module_version": "1.5.0",
          "state": {
            "_model_module": "@jupyter-widgets/controls",
            "_model_module_version": "1.5.0",
            "_model_name": "ProgressStyleModel",
            "_view_count": null,
            "_view_module": "@jupyter-widgets/base",
            "_view_module_version": "1.2.0",
            "_view_name": "StyleView",
            "bar_color": null,
            "description_width": ""
          }
        },
        "8e6221d84cb0400886e41964b25ac707": {
          "model_module": "@jupyter-widgets/base",
          "model_name": "LayoutModel",
          "model_module_version": "1.2.0",
          "state": {
            "_model_module": "@jupyter-widgets/base",
            "_model_module_version": "1.2.0",
            "_model_name": "LayoutModel",
            "_view_count": null,
            "_view_module": "@jupyter-widgets/base",
            "_view_module_version": "1.2.0",
            "_view_name": "LayoutView",
            "align_content": null,
            "align_items": null,
            "align_self": null,
            "border": null,
            "bottom": null,
            "display": null,
            "flex": null,
            "flex_flow": null,
            "grid_area": null,
            "grid_auto_columns": null,
            "grid_auto_flow": null,
            "grid_auto_rows": null,
            "grid_column": null,
            "grid_gap": null,
            "grid_row": null,
            "grid_template_areas": null,
            "grid_template_columns": null,
            "grid_template_rows": null,
            "height": null,
            "justify_content": null,
            "justify_items": null,
            "left": null,
            "margin": null,
            "max_height": null,
            "max_width": null,
            "min_height": null,
            "min_width": null,
            "object_fit": null,
            "object_position": null,
            "order": null,
            "overflow": null,
            "overflow_x": null,
            "overflow_y": null,
            "padding": null,
            "right": null,
            "top": null,
            "visibility": null,
            "width": null
          }
        },
        "e0476a74784a4b0d9114c5e50bf310ce": {
          "model_module": "@jupyter-widgets/controls",
          "model_name": "DescriptionStyleModel",
          "model_module_version": "1.5.0",
          "state": {
            "_model_module": "@jupyter-widgets/controls",
            "_model_module_version": "1.5.0",
            "_model_name": "DescriptionStyleModel",
            "_view_count": null,
            "_view_module": "@jupyter-widgets/base",
            "_view_module_version": "1.2.0",
            "_view_name": "StyleView",
            "description_width": ""
          }
        }
      }
    }
  },
  "nbformat": 4,
  "nbformat_minor": 0
}